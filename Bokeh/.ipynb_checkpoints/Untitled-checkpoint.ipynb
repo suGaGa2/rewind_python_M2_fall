{
 "cells": [
  {
   "cell_type": "code",
   "execution_count": null,
   "metadata": {},
   "outputs": [],
   "source": [
    "from bokeh.models import ColumnDataSource\n",
    "from bokeh.plotting import figure, output_file\n",
    "from bokeh.io import curdoc\n",
    "\n",
    "\n",
    "doc = curdoc()\n",
    "\n",
    "x_values = range(10)\n",
    "y_values = [x ** 2 for x in x_values]\n",
    "data_source = ColumnDataSource(data=dict(x=x_values, y=y_values))\n",
    "\n",
    "\n",
    "plot = figure(title=\"MOGE\",\n",
    "                tools=\"crosshair,pan,reset,save,wheel_zoom\",)\n",
    "plot.line('x', 'y', source=data_source, line_width=3, line_alpha=0.6)\n",
    "\n",
    "doc.add_root(plot)\n",
    "doc.title = \"Hello World\"\n",
    "print(\"ok\")"
   ]
  },
  {
   "cell_type": "code",
   "execution_count": null,
   "metadata": {},
   "outputs": [],
   "source": []
  }
 ],
 "metadata": {
  "celltoolbar": "Edit Metadata",
  "kernelspec": {
   "display_name": "Python 3",
   "language": "python",
   "name": "python3"
  }
 },
 "nbformat": 4,
 "nbformat_minor": 2
}
